{
 "cells": [
  {
   "cell_type": "markdown",
   "metadata": {
    "editable": true
   },
   "source": [
    "# Project Title\n",
    "### Data Engineering Capstone Project\n",
    "\n",
    "#### Project Summary\n",
    "This project is built to prepare data for source-of-truth database where compile and gather data from multiple sources\n",
    "\n",
    "The project follows the follow steps:\n",
    "* Step 1: Scope the Project and Gather Data\n",
    "* Step 2: Explore and Assess the Data\n",
    "* Step 3: Define the Data Model\n",
    "* Step 4: Run ETL to Model the Data\n",
    "* Step 5: Complete Project Write Up"
   ]
  },
  {
   "cell_type": "code",
   "execution_count": 5,
   "metadata": {
    "editable": true
   },
   "outputs": [],
   "source": [
    "# Do all imports and installs here\n",
    "import pandas as pd\n",
    "import pyspark"
   ]
  },
  {
   "cell_type": "markdown",
   "metadata": {
    "editable": true
   },
   "source": [
    "### Step 1: Scope the Project and Gather Data\n",
    "\n",
    "#### Scope \n",
    "This project will use two dataset I94 immigration data and US demographic data to create a data warehouse which include dimensional models.\n",
    "\n",
    "**Data Sets**\n",
    "\n",
    "- I94 Immigration Data\n",
    "- U.S. City Demographic Data\n",
    "\n",
    "**Tools and libraries:**\n",
    "\n",
    "- *AWS S3*: data storage\n",
    "- *Python libraries:*\n",
    "    - *Pandas*  - using to explore and execute on the small dataset\n",
    "    - *PySpark* - using to explore and execute on the large dataset\n",
    "\n",
    "#### Describe the dataset \n",
    "| Dataset             |Format |Description|\n",
    "|---------------------|-------|-----------|\n",
    "|I94 Immigration Data |SAS    |Data gather the information of visitors likes gender, age, visa, etc.|\n",
    "|U.S. City Demographic Data|CSV|This dataset contains information about the demographics of all US cities and census-designated places with a population greater or equal to 65,000.|"
   ]
  },
  {
   "cell_type": "markdown",
   "metadata": {
    "editable": true
   },
   "source": [
    "### Step 2: Explore and Assess the Data\n",
    "#### Explore the dataset : I94 Immigration Data"
   ]
  },
  {
   "cell_type": "code",
   "execution_count": 2,
   "metadata": {
    "editable": true
   },
   "outputs": [],
   "source": [
    "# Read in the data here\n",
    "df_immi = pd.read_csv(\"immigration_data_sample.csv\")"
   ]
  },
  {
   "cell_type": "code",
   "execution_count": 3,
   "metadata": {
    "editable": true
   },
   "outputs": [],
   "source": [
    "pd.set_option('display.max_columns', None)"
   ]
  },
  {
   "cell_type": "code",
   "execution_count": 4,
   "metadata": {
    "editable": true
   },
   "outputs": [
    {
     "data": {
      "text/html": [
       "<div>\n",
       "<style scoped>\n",
       "    .dataframe tbody tr th:only-of-type {\n",
       "        vertical-align: middle;\n",
       "    }\n",
       "\n",
       "    .dataframe tbody tr th {\n",
       "        vertical-align: top;\n",
       "    }\n",
       "\n",
       "    .dataframe thead th {\n",
       "        text-align: right;\n",
       "    }\n",
       "</style>\n",
       "<table border=\"1\" class=\"dataframe\">\n",
       "  <thead>\n",
       "    <tr style=\"text-align: right;\">\n",
       "      <th></th>\n",
       "      <th>Unnamed: 0</th>\n",
       "      <th>cicid</th>\n",
       "      <th>i94yr</th>\n",
       "      <th>i94mon</th>\n",
       "      <th>i94cit</th>\n",
       "      <th>i94res</th>\n",
       "      <th>i94port</th>\n",
       "      <th>arrdate</th>\n",
       "      <th>i94mode</th>\n",
       "      <th>i94addr</th>\n",
       "      <th>depdate</th>\n",
       "      <th>i94bir</th>\n",
       "      <th>i94visa</th>\n",
       "      <th>count</th>\n",
       "      <th>dtadfile</th>\n",
       "      <th>visapost</th>\n",
       "      <th>occup</th>\n",
       "      <th>entdepa</th>\n",
       "      <th>entdepd</th>\n",
       "      <th>entdepu</th>\n",
       "      <th>matflag</th>\n",
       "      <th>biryear</th>\n",
       "      <th>dtaddto</th>\n",
       "      <th>gender</th>\n",
       "      <th>insnum</th>\n",
       "      <th>airline</th>\n",
       "      <th>admnum</th>\n",
       "      <th>fltno</th>\n",
       "      <th>visatype</th>\n",
       "    </tr>\n",
       "  </thead>\n",
       "  <tbody>\n",
       "    <tr>\n",
       "      <th>0</th>\n",
       "      <td>2027561</td>\n",
       "      <td>4084316.0</td>\n",
       "      <td>2016.0</td>\n",
       "      <td>4.0</td>\n",
       "      <td>209.0</td>\n",
       "      <td>209.0</td>\n",
       "      <td>HHW</td>\n",
       "      <td>20566.0</td>\n",
       "      <td>1.0</td>\n",
       "      <td>HI</td>\n",
       "      <td>20573.0</td>\n",
       "      <td>61.0</td>\n",
       "      <td>2.0</td>\n",
       "      <td>1.0</td>\n",
       "      <td>20160422</td>\n",
       "      <td>NaN</td>\n",
       "      <td>NaN</td>\n",
       "      <td>G</td>\n",
       "      <td>O</td>\n",
       "      <td>NaN</td>\n",
       "      <td>M</td>\n",
       "      <td>1955.0</td>\n",
       "      <td>07202016</td>\n",
       "      <td>F</td>\n",
       "      <td>NaN</td>\n",
       "      <td>JL</td>\n",
       "      <td>5.658267e+10</td>\n",
       "      <td>00782</td>\n",
       "      <td>WT</td>\n",
       "    </tr>\n",
       "    <tr>\n",
       "      <th>1</th>\n",
       "      <td>2171295</td>\n",
       "      <td>4422636.0</td>\n",
       "      <td>2016.0</td>\n",
       "      <td>4.0</td>\n",
       "      <td>582.0</td>\n",
       "      <td>582.0</td>\n",
       "      <td>MCA</td>\n",
       "      <td>20567.0</td>\n",
       "      <td>1.0</td>\n",
       "      <td>TX</td>\n",
       "      <td>20568.0</td>\n",
       "      <td>26.0</td>\n",
       "      <td>2.0</td>\n",
       "      <td>1.0</td>\n",
       "      <td>20160423</td>\n",
       "      <td>MTR</td>\n",
       "      <td>NaN</td>\n",
       "      <td>G</td>\n",
       "      <td>R</td>\n",
       "      <td>NaN</td>\n",
       "      <td>M</td>\n",
       "      <td>1990.0</td>\n",
       "      <td>10222016</td>\n",
       "      <td>M</td>\n",
       "      <td>NaN</td>\n",
       "      <td>*GA</td>\n",
       "      <td>9.436200e+10</td>\n",
       "      <td>XBLNG</td>\n",
       "      <td>B2</td>\n",
       "    </tr>\n",
       "    <tr>\n",
       "      <th>2</th>\n",
       "      <td>589494</td>\n",
       "      <td>1195600.0</td>\n",
       "      <td>2016.0</td>\n",
       "      <td>4.0</td>\n",
       "      <td>148.0</td>\n",
       "      <td>112.0</td>\n",
       "      <td>OGG</td>\n",
       "      <td>20551.0</td>\n",
       "      <td>1.0</td>\n",
       "      <td>FL</td>\n",
       "      <td>20571.0</td>\n",
       "      <td>76.0</td>\n",
       "      <td>2.0</td>\n",
       "      <td>1.0</td>\n",
       "      <td>20160407</td>\n",
       "      <td>NaN</td>\n",
       "      <td>NaN</td>\n",
       "      <td>G</td>\n",
       "      <td>O</td>\n",
       "      <td>NaN</td>\n",
       "      <td>M</td>\n",
       "      <td>1940.0</td>\n",
       "      <td>07052016</td>\n",
       "      <td>M</td>\n",
       "      <td>NaN</td>\n",
       "      <td>LH</td>\n",
       "      <td>5.578047e+10</td>\n",
       "      <td>00464</td>\n",
       "      <td>WT</td>\n",
       "    </tr>\n",
       "    <tr>\n",
       "      <th>3</th>\n",
       "      <td>2631158</td>\n",
       "      <td>5291768.0</td>\n",
       "      <td>2016.0</td>\n",
       "      <td>4.0</td>\n",
       "      <td>297.0</td>\n",
       "      <td>297.0</td>\n",
       "      <td>LOS</td>\n",
       "      <td>20572.0</td>\n",
       "      <td>1.0</td>\n",
       "      <td>CA</td>\n",
       "      <td>20581.0</td>\n",
       "      <td>25.0</td>\n",
       "      <td>2.0</td>\n",
       "      <td>1.0</td>\n",
       "      <td>20160428</td>\n",
       "      <td>DOH</td>\n",
       "      <td>NaN</td>\n",
       "      <td>G</td>\n",
       "      <td>O</td>\n",
       "      <td>NaN</td>\n",
       "      <td>M</td>\n",
       "      <td>1991.0</td>\n",
       "      <td>10272016</td>\n",
       "      <td>M</td>\n",
       "      <td>NaN</td>\n",
       "      <td>QR</td>\n",
       "      <td>9.478970e+10</td>\n",
       "      <td>00739</td>\n",
       "      <td>B2</td>\n",
       "    </tr>\n",
       "    <tr>\n",
       "      <th>4</th>\n",
       "      <td>3032257</td>\n",
       "      <td>985523.0</td>\n",
       "      <td>2016.0</td>\n",
       "      <td>4.0</td>\n",
       "      <td>111.0</td>\n",
       "      <td>111.0</td>\n",
       "      <td>CHM</td>\n",
       "      <td>20550.0</td>\n",
       "      <td>3.0</td>\n",
       "      <td>NY</td>\n",
       "      <td>20553.0</td>\n",
       "      <td>19.0</td>\n",
       "      <td>2.0</td>\n",
       "      <td>1.0</td>\n",
       "      <td>20160406</td>\n",
       "      <td>NaN</td>\n",
       "      <td>NaN</td>\n",
       "      <td>Z</td>\n",
       "      <td>K</td>\n",
       "      <td>NaN</td>\n",
       "      <td>M</td>\n",
       "      <td>1997.0</td>\n",
       "      <td>07042016</td>\n",
       "      <td>F</td>\n",
       "      <td>NaN</td>\n",
       "      <td>NaN</td>\n",
       "      <td>4.232257e+10</td>\n",
       "      <td>LAND</td>\n",
       "      <td>WT</td>\n",
       "    </tr>\n",
       "  </tbody>\n",
       "</table>\n",
       "</div>"
      ],
      "text/plain": [
       "   Unnamed: 0      cicid   i94yr  i94mon  i94cit  i94res i94port  arrdate  \\\n",
       "0     2027561  4084316.0  2016.0     4.0   209.0   209.0     HHW  20566.0   \n",
       "1     2171295  4422636.0  2016.0     4.0   582.0   582.0     MCA  20567.0   \n",
       "2      589494  1195600.0  2016.0     4.0   148.0   112.0     OGG  20551.0   \n",
       "3     2631158  5291768.0  2016.0     4.0   297.0   297.0     LOS  20572.0   \n",
       "4     3032257   985523.0  2016.0     4.0   111.0   111.0     CHM  20550.0   \n",
       "\n",
       "   i94mode i94addr  depdate  i94bir  i94visa  count  dtadfile visapost occup  \\\n",
       "0      1.0      HI  20573.0    61.0      2.0    1.0  20160422      NaN   NaN   \n",
       "1      1.0      TX  20568.0    26.0      2.0    1.0  20160423      MTR   NaN   \n",
       "2      1.0      FL  20571.0    76.0      2.0    1.0  20160407      NaN   NaN   \n",
       "3      1.0      CA  20581.0    25.0      2.0    1.0  20160428      DOH   NaN   \n",
       "4      3.0      NY  20553.0    19.0      2.0    1.0  20160406      NaN   NaN   \n",
       "\n",
       "  entdepa entdepd  entdepu matflag  biryear   dtaddto gender  insnum airline  \\\n",
       "0       G       O      NaN       M   1955.0  07202016      F     NaN      JL   \n",
       "1       G       R      NaN       M   1990.0  10222016      M     NaN     *GA   \n",
       "2       G       O      NaN       M   1940.0  07052016      M     NaN      LH   \n",
       "3       G       O      NaN       M   1991.0  10272016      M     NaN      QR   \n",
       "4       Z       K      NaN       M   1997.0  07042016      F     NaN     NaN   \n",
       "\n",
       "         admnum  fltno visatype  \n",
       "0  5.658267e+10  00782       WT  \n",
       "1  9.436200e+10  XBLNG       B2  \n",
       "2  5.578047e+10  00464       WT  \n",
       "3  9.478970e+10  00739       B2  \n",
       "4  4.232257e+10   LAND       WT  "
      ]
     },
     "execution_count": 4,
     "metadata": {},
     "output_type": "execute_result"
    }
   ],
   "source": [
    "df_immi.head()"
   ]
  },
  {
   "cell_type": "code",
   "execution_count": 5,
   "metadata": {
    "editable": true
   },
   "outputs": [
    {
     "name": "stdout",
     "output_type": "stream",
     "text": [
      "<class 'pandas.core.frame.DataFrame'>\n",
      "RangeIndex: 1000 entries, 0 to 999\n",
      "Data columns (total 29 columns):\n",
      "Unnamed: 0    1000 non-null int64\n",
      "cicid         1000 non-null float64\n",
      "i94yr         1000 non-null float64\n",
      "i94mon        1000 non-null float64\n",
      "i94cit        1000 non-null float64\n",
      "i94res        1000 non-null float64\n",
      "i94port       1000 non-null object\n",
      "arrdate       1000 non-null float64\n",
      "i94mode       1000 non-null float64\n",
      "i94addr       941 non-null object\n",
      "depdate       951 non-null float64\n",
      "i94bir        1000 non-null float64\n",
      "i94visa       1000 non-null float64\n",
      "count         1000 non-null float64\n",
      "dtadfile      1000 non-null int64\n",
      "visapost      382 non-null object\n",
      "occup         4 non-null object\n",
      "entdepa       1000 non-null object\n",
      "entdepd       954 non-null object\n",
      "entdepu       0 non-null float64\n",
      "matflag       954 non-null object\n",
      "biryear       1000 non-null float64\n",
      "dtaddto       1000 non-null object\n",
      "gender        859 non-null object\n",
      "insnum        35 non-null float64\n",
      "airline       967 non-null object\n",
      "admnum        1000 non-null float64\n",
      "fltno         992 non-null object\n",
      "visatype      1000 non-null object\n",
      "dtypes: float64(15), int64(2), object(12)\n",
      "memory usage: 226.6+ KB\n"
     ]
    }
   ],
   "source": [
    "df_immi.info()"
   ]
  },
  {
   "cell_type": "markdown",
   "metadata": {
    "editable": true
   },
   "source": [
    "With above information, we can easily remove the columns which are almost null value like: *visapost, occup, entdepu, insnum*. The remain columns will be picked into fact and dimensional tables."
   ]
  },
  {
   "cell_type": "code",
   "execution_count": 6,
   "metadata": {
    "editable": true
   },
   "outputs": [
    {
     "data": {
      "text/html": [
       "<div>\n",
       "<style scoped>\n",
       "    .dataframe tbody tr th:only-of-type {\n",
       "        vertical-align: middle;\n",
       "    }\n",
       "\n",
       "    .dataframe tbody tr th {\n",
       "        vertical-align: top;\n",
       "    }\n",
       "\n",
       "    .dataframe thead th {\n",
       "        text-align: right;\n",
       "    }\n",
       "</style>\n",
       "<table border=\"1\" class=\"dataframe\">\n",
       "  <thead>\n",
       "    <tr style=\"text-align: right;\">\n",
       "      <th></th>\n",
       "      <th>cic_id</th>\n",
       "      <th>city_code</th>\n",
       "      <th>state_code</th>\n",
       "      <th>arrival_date</th>\n",
       "      <th>flight_number</th>\n",
       "      <th>visa_type</th>\n",
       "      <th>stay_duration</th>\n",
       "    </tr>\n",
       "  </thead>\n",
       "  <tbody>\n",
       "    <tr>\n",
       "      <th>0</th>\n",
       "      <td>4084316.0</td>\n",
       "      <td>HHW</td>\n",
       "      <td>HI</td>\n",
       "      <td>20566.0</td>\n",
       "      <td>00782</td>\n",
       "      <td>WT</td>\n",
       "      <td>7.0</td>\n",
       "    </tr>\n",
       "    <tr>\n",
       "      <th>1</th>\n",
       "      <td>4422636.0</td>\n",
       "      <td>MCA</td>\n",
       "      <td>TX</td>\n",
       "      <td>20567.0</td>\n",
       "      <td>XBLNG</td>\n",
       "      <td>B2</td>\n",
       "      <td>1.0</td>\n",
       "    </tr>\n",
       "    <tr>\n",
       "      <th>2</th>\n",
       "      <td>1195600.0</td>\n",
       "      <td>OGG</td>\n",
       "      <td>FL</td>\n",
       "      <td>20551.0</td>\n",
       "      <td>00464</td>\n",
       "      <td>WT</td>\n",
       "      <td>20.0</td>\n",
       "    </tr>\n",
       "    <tr>\n",
       "      <th>3</th>\n",
       "      <td>5291768.0</td>\n",
       "      <td>LOS</td>\n",
       "      <td>CA</td>\n",
       "      <td>20572.0</td>\n",
       "      <td>00739</td>\n",
       "      <td>B2</td>\n",
       "      <td>9.0</td>\n",
       "    </tr>\n",
       "    <tr>\n",
       "      <th>4</th>\n",
       "      <td>985523.0</td>\n",
       "      <td>CHM</td>\n",
       "      <td>NY</td>\n",
       "      <td>20550.0</td>\n",
       "      <td>LAND</td>\n",
       "      <td>WT</td>\n",
       "      <td>3.0</td>\n",
       "    </tr>\n",
       "  </tbody>\n",
       "</table>\n",
       "</div>"
      ],
      "text/plain": [
       "      cic_id city_code state_code  arrival_date flight_number visa_type  \\\n",
       "0  4084316.0       HHW         HI       20566.0         00782        WT   \n",
       "1  4422636.0       MCA         TX       20567.0         XBLNG        B2   \n",
       "2  1195600.0       OGG         FL       20551.0         00464        WT   \n",
       "3  5291768.0       LOS         CA       20572.0         00739        B2   \n",
       "4   985523.0       CHM         NY       20550.0          LAND        WT   \n",
       "\n",
       "   stay_duration  \n",
       "0            7.0  \n",
       "1            1.0  \n",
       "2           20.0  \n",
       "3            9.0  \n",
       "4            3.0  "
      ]
     },
     "execution_count": 6,
     "metadata": {},
     "output_type": "execute_result"
    }
   ],
   "source": [
    "fact_immigration = df_immi[['cicid','i94port','i94addr','arrdate','fltno','visatype']].copy()\n",
    "fact_immigration.columns = ['cic_id','city_code','state_code','arrival_date','flight_number','visa_type']\n",
    "fact_immigration['stay_duration'] = df_immi.depdate - df_immi.arrdate\n",
    "fact_immigration.head(5)"
   ]
  },
  {
   "cell_type": "code",
   "execution_count": 7,
   "metadata": {
    "editable": true
   },
   "outputs": [
    {
     "data": {
      "text/html": [
       "<div>\n",
       "<style scoped>\n",
       "    .dataframe tbody tr th:only-of-type {\n",
       "        vertical-align: middle;\n",
       "    }\n",
       "\n",
       "    .dataframe tbody tr th {\n",
       "        vertical-align: top;\n",
       "    }\n",
       "\n",
       "    .dataframe thead th {\n",
       "        text-align: right;\n",
       "    }\n",
       "</style>\n",
       "<table border=\"1\" class=\"dataframe\">\n",
       "  <thead>\n",
       "    <tr style=\"text-align: right;\">\n",
       "      <th></th>\n",
       "      <th>arrival_date</th>\n",
       "      <th>arrival_datetime</th>\n",
       "      <th>year</th>\n",
       "      <th>month</th>\n",
       "      <th>day</th>\n",
       "    </tr>\n",
       "  </thead>\n",
       "  <tbody>\n",
       "    <tr>\n",
       "      <th>0</th>\n",
       "      <td>20566.0</td>\n",
       "      <td>2016-04-22</td>\n",
       "      <td>2016</td>\n",
       "      <td>4</td>\n",
       "      <td>22</td>\n",
       "    </tr>\n",
       "    <tr>\n",
       "      <th>1</th>\n",
       "      <td>20567.0</td>\n",
       "      <td>2016-04-23</td>\n",
       "      <td>2016</td>\n",
       "      <td>4</td>\n",
       "      <td>23</td>\n",
       "    </tr>\n",
       "    <tr>\n",
       "      <th>2</th>\n",
       "      <td>20551.0</td>\n",
       "      <td>2016-04-07</td>\n",
       "      <td>2016</td>\n",
       "      <td>4</td>\n",
       "      <td>7</td>\n",
       "    </tr>\n",
       "    <tr>\n",
       "      <th>3</th>\n",
       "      <td>20572.0</td>\n",
       "      <td>2016-04-28</td>\n",
       "      <td>2016</td>\n",
       "      <td>4</td>\n",
       "      <td>28</td>\n",
       "    </tr>\n",
       "    <tr>\n",
       "      <th>4</th>\n",
       "      <td>20550.0</td>\n",
       "      <td>2016-04-06</td>\n",
       "      <td>2016</td>\n",
       "      <td>4</td>\n",
       "      <td>6</td>\n",
       "    </tr>\n",
       "  </tbody>\n",
       "</table>\n",
       "</div>"
      ],
      "text/plain": [
       "   arrival_date arrival_datetime  year  month  day\n",
       "0       20566.0       2016-04-22  2016      4   22\n",
       "1       20567.0       2016-04-23  2016      4   23\n",
       "2       20551.0       2016-04-07  2016      4    7\n",
       "3       20572.0       2016-04-28  2016      4   28\n",
       "4       20550.0       2016-04-06  2016      4    6"
      ]
     },
     "execution_count": 7,
     "metadata": {},
     "output_type": "execute_result"
    }
   ],
   "source": [
    "arrival_date = list(df_immi.arrdate)\n",
    "arrival_datetime = [pd.Timestamp('1960-1-1') + pd.to_timedelta(i,unit='D') for i in arrival_date]\n",
    "arrival_year = list(pd.DatetimeIndex(arrival_datetime).year)\n",
    "arrival_month = list(pd.DatetimeIndex(arrival_datetime).month)\n",
    "arrival_day = list(pd.DatetimeIndex(arrival_datetime).day)\n",
    "dim_arrival_date = pd.DataFrame({'arrival_date':arrival_date,'arrival_datetime':arrival_datetime,'year':arrival_year,'month':arrival_month,'day':arrival_day})\n",
    "dim_arrival_date.head()"
   ]
  },
  {
   "cell_type": "code",
   "execution_count": 8,
   "metadata": {
    "editable": true
   },
   "outputs": [
    {
     "data": {
      "text/html": [
       "<div>\n",
       "<style scoped>\n",
       "    .dataframe tbody tr th:only-of-type {\n",
       "        vertical-align: middle;\n",
       "    }\n",
       "\n",
       "    .dataframe tbody tr th {\n",
       "        vertical-align: top;\n",
       "    }\n",
       "\n",
       "    .dataframe thead th {\n",
       "        text-align: right;\n",
       "    }\n",
       "</style>\n",
       "<table border=\"1\" class=\"dataframe\">\n",
       "  <thead>\n",
       "    <tr style=\"text-align: right;\">\n",
       "      <th></th>\n",
       "      <th>visa_purpose</th>\n",
       "      <th>visa_type</th>\n",
       "    </tr>\n",
       "  </thead>\n",
       "  <tbody>\n",
       "    <tr>\n",
       "      <th>0</th>\n",
       "      <td>2.0</td>\n",
       "      <td>WT</td>\n",
       "    </tr>\n",
       "    <tr>\n",
       "      <th>1</th>\n",
       "      <td>2.0</td>\n",
       "      <td>B2</td>\n",
       "    </tr>\n",
       "    <tr>\n",
       "      <th>2</th>\n",
       "      <td>2.0</td>\n",
       "      <td>CP</td>\n",
       "    </tr>\n",
       "    <tr>\n",
       "      <th>3</th>\n",
       "      <td>1.0</td>\n",
       "      <td>B1</td>\n",
       "    </tr>\n",
       "    <tr>\n",
       "      <th>4</th>\n",
       "      <td>2.0</td>\n",
       "      <td>GMT</td>\n",
       "    </tr>\n",
       "  </tbody>\n",
       "</table>\n",
       "</div>"
      ],
      "text/plain": [
       "   visa_purpose visa_type\n",
       "0           2.0        WT\n",
       "1           2.0        B2\n",
       "2           2.0        CP\n",
       "3           1.0        B1\n",
       "4           2.0       GMT"
      ]
     },
     "execution_count": 8,
     "metadata": {},
     "output_type": "execute_result"
    }
   ],
   "source": [
    "dim_visa = df_immi[['i94visa','visatype']].drop_duplicates().reset_index(drop=True)\n",
    "dim_visa.columns = ['visa_purpose','visa_type']\n",
    "dim_visa.head()"
   ]
  },
  {
   "cell_type": "code",
   "execution_count": 9,
   "metadata": {
    "editable": true
   },
   "outputs": [
    {
     "data": {
      "text/html": [
       "<div>\n",
       "<style scoped>\n",
       "    .dataframe tbody tr th:only-of-type {\n",
       "        vertical-align: middle;\n",
       "    }\n",
       "\n",
       "    .dataframe tbody tr th {\n",
       "        vertical-align: top;\n",
       "    }\n",
       "\n",
       "    .dataframe thead th {\n",
       "        text-align: right;\n",
       "    }\n",
       "</style>\n",
       "<table border=\"1\" class=\"dataframe\">\n",
       "  <thead>\n",
       "    <tr style=\"text-align: right;\">\n",
       "      <th></th>\n",
       "      <th>cic_id</th>\n",
       "      <th>country_of_birth</th>\n",
       "      <th>country_of_residence</th>\n",
       "      <th>year_of_birth</th>\n",
       "      <th>gender</th>\n",
       "    </tr>\n",
       "  </thead>\n",
       "  <tbody>\n",
       "    <tr>\n",
       "      <th>0</th>\n",
       "      <td>4084316.0</td>\n",
       "      <td>209.0</td>\n",
       "      <td>209.0</td>\n",
       "      <td>1955.0</td>\n",
       "      <td>F</td>\n",
       "    </tr>\n",
       "    <tr>\n",
       "      <th>1</th>\n",
       "      <td>4422636.0</td>\n",
       "      <td>582.0</td>\n",
       "      <td>582.0</td>\n",
       "      <td>1990.0</td>\n",
       "      <td>M</td>\n",
       "    </tr>\n",
       "    <tr>\n",
       "      <th>2</th>\n",
       "      <td>1195600.0</td>\n",
       "      <td>148.0</td>\n",
       "      <td>112.0</td>\n",
       "      <td>1940.0</td>\n",
       "      <td>M</td>\n",
       "    </tr>\n",
       "    <tr>\n",
       "      <th>3</th>\n",
       "      <td>5291768.0</td>\n",
       "      <td>297.0</td>\n",
       "      <td>297.0</td>\n",
       "      <td>1991.0</td>\n",
       "      <td>M</td>\n",
       "    </tr>\n",
       "    <tr>\n",
       "      <th>4</th>\n",
       "      <td>985523.0</td>\n",
       "      <td>111.0</td>\n",
       "      <td>111.0</td>\n",
       "      <td>1997.0</td>\n",
       "      <td>F</td>\n",
       "    </tr>\n",
       "  </tbody>\n",
       "</table>\n",
       "</div>"
      ],
      "text/plain": [
       "      cic_id  country_of_birth  country_of_residence  year_of_birth gender\n",
       "0  4084316.0             209.0                 209.0         1955.0      F\n",
       "1  4422636.0             582.0                 582.0         1990.0      M\n",
       "2  1195600.0             148.0                 112.0         1940.0      M\n",
       "3  5291768.0             297.0                 297.0         1991.0      M\n",
       "4   985523.0             111.0                 111.0         1997.0      F"
      ]
     },
     "execution_count": 9,
     "metadata": {},
     "output_type": "execute_result"
    }
   ],
   "source": [
    "dim_personal = df_immi[['cicid','i94cit','i94res','biryear','gender']].copy()\n",
    "dim_personal.columns = ['cic_id','country_of_birth','country_of_residence','year_of_birth','gender']\n",
    "dim_personal.head(5)"
   ]
  },
  {
   "cell_type": "code",
   "execution_count": 10,
   "metadata": {
    "editable": true
   },
   "outputs": [
    {
     "data": {
      "text/html": [
       "<div>\n",
       "<style scoped>\n",
       "    .dataframe tbody tr th:only-of-type {\n",
       "        vertical-align: middle;\n",
       "    }\n",
       "\n",
       "    .dataframe tbody tr th {\n",
       "        vertical-align: top;\n",
       "    }\n",
       "\n",
       "    .dataframe thead th {\n",
       "        text-align: right;\n",
       "    }\n",
       "</style>\n",
       "<table border=\"1\" class=\"dataframe\">\n",
       "  <thead>\n",
       "    <tr style=\"text-align: right;\">\n",
       "      <th></th>\n",
       "      <th>flight_number</th>\n",
       "      <th>airline_brand</th>\n",
       "    </tr>\n",
       "  </thead>\n",
       "  <tbody>\n",
       "    <tr>\n",
       "      <th>0</th>\n",
       "      <td>00782</td>\n",
       "      <td>JL</td>\n",
       "    </tr>\n",
       "    <tr>\n",
       "      <th>1</th>\n",
       "      <td>XBLNG</td>\n",
       "      <td>*GA</td>\n",
       "    </tr>\n",
       "    <tr>\n",
       "      <th>2</th>\n",
       "      <td>00464</td>\n",
       "      <td>LH</td>\n",
       "    </tr>\n",
       "    <tr>\n",
       "      <th>3</th>\n",
       "      <td>00739</td>\n",
       "      <td>QR</td>\n",
       "    </tr>\n",
       "    <tr>\n",
       "      <th>4</th>\n",
       "      <td>LAND</td>\n",
       "      <td>NaN</td>\n",
       "    </tr>\n",
       "  </tbody>\n",
       "</table>\n",
       "</div>"
      ],
      "text/plain": [
       "  flight_number airline_brand\n",
       "0         00782            JL\n",
       "1         XBLNG           *GA\n",
       "2         00464            LH\n",
       "3         00739            QR\n",
       "4          LAND           NaN"
      ]
     },
     "execution_count": 10,
     "metadata": {},
     "output_type": "execute_result"
    }
   ],
   "source": [
    "dim_airline = df_immi[['fltno','airline']].copy()\n",
    "dim_airline.columns = ['flight_number','airline_brand']\n",
    "dim_airline.drop_duplicates(inplace=True)\n",
    "dim_airline.head(5)"
   ]
  },
  {
   "cell_type": "markdown",
   "metadata": {
    "editable": true
   },
   "source": [
    "#### Explore the Data : demography dataset"
   ]
  },
  {
   "cell_type": "code",
   "execution_count": 11,
   "metadata": {
    "editable": true
   },
   "outputs": [
    {
     "data": {
      "text/html": [
       "<div>\n",
       "<style scoped>\n",
       "    .dataframe tbody tr th:only-of-type {\n",
       "        vertical-align: middle;\n",
       "    }\n",
       "\n",
       "    .dataframe tbody tr th {\n",
       "        vertical-align: top;\n",
       "    }\n",
       "\n",
       "    .dataframe thead th {\n",
       "        text-align: right;\n",
       "    }\n",
       "</style>\n",
       "<table border=\"1\" class=\"dataframe\">\n",
       "  <thead>\n",
       "    <tr style=\"text-align: right;\">\n",
       "      <th></th>\n",
       "      <th>City</th>\n",
       "      <th>State</th>\n",
       "      <th>Median Age</th>\n",
       "      <th>Male Population</th>\n",
       "      <th>Female Population</th>\n",
       "      <th>Total Population</th>\n",
       "      <th>Number of Veterans</th>\n",
       "      <th>Foreign-born</th>\n",
       "      <th>Average Household Size</th>\n",
       "      <th>State Code</th>\n",
       "      <th>Race</th>\n",
       "      <th>Count</th>\n",
       "    </tr>\n",
       "  </thead>\n",
       "  <tbody>\n",
       "    <tr>\n",
       "      <th>0</th>\n",
       "      <td>Silver Spring</td>\n",
       "      <td>Maryland</td>\n",
       "      <td>33.8</td>\n",
       "      <td>40601.0</td>\n",
       "      <td>41862.0</td>\n",
       "      <td>82463</td>\n",
       "      <td>1562.0</td>\n",
       "      <td>30908.0</td>\n",
       "      <td>2.60</td>\n",
       "      <td>MD</td>\n",
       "      <td>Hispanic or Latino</td>\n",
       "      <td>25924</td>\n",
       "    </tr>\n",
       "    <tr>\n",
       "      <th>1</th>\n",
       "      <td>Quincy</td>\n",
       "      <td>Massachusetts</td>\n",
       "      <td>41.0</td>\n",
       "      <td>44129.0</td>\n",
       "      <td>49500.0</td>\n",
       "      <td>93629</td>\n",
       "      <td>4147.0</td>\n",
       "      <td>32935.0</td>\n",
       "      <td>2.39</td>\n",
       "      <td>MA</td>\n",
       "      <td>White</td>\n",
       "      <td>58723</td>\n",
       "    </tr>\n",
       "    <tr>\n",
       "      <th>2</th>\n",
       "      <td>Hoover</td>\n",
       "      <td>Alabama</td>\n",
       "      <td>38.5</td>\n",
       "      <td>38040.0</td>\n",
       "      <td>46799.0</td>\n",
       "      <td>84839</td>\n",
       "      <td>4819.0</td>\n",
       "      <td>8229.0</td>\n",
       "      <td>2.58</td>\n",
       "      <td>AL</td>\n",
       "      <td>Asian</td>\n",
       "      <td>4759</td>\n",
       "    </tr>\n",
       "    <tr>\n",
       "      <th>3</th>\n",
       "      <td>Rancho Cucamonga</td>\n",
       "      <td>California</td>\n",
       "      <td>34.5</td>\n",
       "      <td>88127.0</td>\n",
       "      <td>87105.0</td>\n",
       "      <td>175232</td>\n",
       "      <td>5821.0</td>\n",
       "      <td>33878.0</td>\n",
       "      <td>3.18</td>\n",
       "      <td>CA</td>\n",
       "      <td>Black or African-American</td>\n",
       "      <td>24437</td>\n",
       "    </tr>\n",
       "    <tr>\n",
       "      <th>4</th>\n",
       "      <td>Newark</td>\n",
       "      <td>New Jersey</td>\n",
       "      <td>34.6</td>\n",
       "      <td>138040.0</td>\n",
       "      <td>143873.0</td>\n",
       "      <td>281913</td>\n",
       "      <td>5829.0</td>\n",
       "      <td>86253.0</td>\n",
       "      <td>2.73</td>\n",
       "      <td>NJ</td>\n",
       "      <td>White</td>\n",
       "      <td>76402</td>\n",
       "    </tr>\n",
       "  </tbody>\n",
       "</table>\n",
       "</div>"
      ],
      "text/plain": [
       "               City          State  Median Age  Male Population  \\\n",
       "0     Silver Spring       Maryland        33.8          40601.0   \n",
       "1            Quincy  Massachusetts        41.0          44129.0   \n",
       "2            Hoover        Alabama        38.5          38040.0   \n",
       "3  Rancho Cucamonga     California        34.5          88127.0   \n",
       "4            Newark     New Jersey        34.6         138040.0   \n",
       "\n",
       "   Female Population  Total Population  Number of Veterans  Foreign-born  \\\n",
       "0            41862.0             82463              1562.0       30908.0   \n",
       "1            49500.0             93629              4147.0       32935.0   \n",
       "2            46799.0             84839              4819.0        8229.0   \n",
       "3            87105.0            175232              5821.0       33878.0   \n",
       "4           143873.0            281913              5829.0       86253.0   \n",
       "\n",
       "   Average Household Size State Code                       Race  Count  \n",
       "0                    2.60         MD         Hispanic or Latino  25924  \n",
       "1                    2.39         MA                      White  58723  \n",
       "2                    2.58         AL                      Asian   4759  \n",
       "3                    3.18         CA  Black or African-American  24437  \n",
       "4                    2.73         NJ                      White  76402  "
      ]
     },
     "execution_count": 11,
     "metadata": {},
     "output_type": "execute_result"
    }
   ],
   "source": [
    "df_demography = pd.read_csv('us-cities-demographics.csv',sep=';')\n",
    "df_demography.head(5)"
   ]
  },
  {
   "cell_type": "code",
   "execution_count": 12,
   "metadata": {
    "editable": true
   },
   "outputs": [
    {
     "data": {
      "text/html": [
       "<div>\n",
       "<style scoped>\n",
       "    .dataframe tbody tr th:only-of-type {\n",
       "        vertical-align: middle;\n",
       "    }\n",
       "\n",
       "    .dataframe tbody tr th {\n",
       "        vertical-align: top;\n",
       "    }\n",
       "\n",
       "    .dataframe thead th {\n",
       "        text-align: right;\n",
       "    }\n",
       "</style>\n",
       "<table border=\"1\" class=\"dataframe\">\n",
       "  <thead>\n",
       "    <tr style=\"text-align: right;\">\n",
       "      <th></th>\n",
       "      <th>city_name</th>\n",
       "      <th>state_name</th>\n",
       "      <th>state_code</th>\n",
       "      <th>median_age</th>\n",
       "      <th>male_population</th>\n",
       "      <th>female_population</th>\n",
       "      <th>total_population</th>\n",
       "      <th>number_of_veterans</th>\n",
       "      <th>foreign_born</th>\n",
       "      <th>avg_household_size</th>\n",
       "    </tr>\n",
       "  </thead>\n",
       "  <tbody>\n",
       "    <tr>\n",
       "      <th>0</th>\n",
       "      <td>Silver Spring</td>\n",
       "      <td>Maryland</td>\n",
       "      <td>MD</td>\n",
       "      <td>33.8</td>\n",
       "      <td>40601.0</td>\n",
       "      <td>41862.0</td>\n",
       "      <td>82463</td>\n",
       "      <td>1562.0</td>\n",
       "      <td>30908.0</td>\n",
       "      <td>2.60</td>\n",
       "    </tr>\n",
       "    <tr>\n",
       "      <th>1</th>\n",
       "      <td>Quincy</td>\n",
       "      <td>Massachusetts</td>\n",
       "      <td>MA</td>\n",
       "      <td>41.0</td>\n",
       "      <td>44129.0</td>\n",
       "      <td>49500.0</td>\n",
       "      <td>93629</td>\n",
       "      <td>4147.0</td>\n",
       "      <td>32935.0</td>\n",
       "      <td>2.39</td>\n",
       "    </tr>\n",
       "    <tr>\n",
       "      <th>2</th>\n",
       "      <td>Hoover</td>\n",
       "      <td>Alabama</td>\n",
       "      <td>AL</td>\n",
       "      <td>38.5</td>\n",
       "      <td>38040.0</td>\n",
       "      <td>46799.0</td>\n",
       "      <td>84839</td>\n",
       "      <td>4819.0</td>\n",
       "      <td>8229.0</td>\n",
       "      <td>2.58</td>\n",
       "    </tr>\n",
       "    <tr>\n",
       "      <th>3</th>\n",
       "      <td>Rancho Cucamonga</td>\n",
       "      <td>California</td>\n",
       "      <td>CA</td>\n",
       "      <td>34.5</td>\n",
       "      <td>88127.0</td>\n",
       "      <td>87105.0</td>\n",
       "      <td>175232</td>\n",
       "      <td>5821.0</td>\n",
       "      <td>33878.0</td>\n",
       "      <td>3.18</td>\n",
       "    </tr>\n",
       "    <tr>\n",
       "      <th>4</th>\n",
       "      <td>Newark</td>\n",
       "      <td>New Jersey</td>\n",
       "      <td>NJ</td>\n",
       "      <td>34.6</td>\n",
       "      <td>138040.0</td>\n",
       "      <td>143873.0</td>\n",
       "      <td>281913</td>\n",
       "      <td>5829.0</td>\n",
       "      <td>86253.0</td>\n",
       "      <td>2.73</td>\n",
       "    </tr>\n",
       "  </tbody>\n",
       "</table>\n",
       "</div>"
      ],
      "text/plain": [
       "          city_name     state_name state_code  median_age  male_population  \\\n",
       "0     Silver Spring       Maryland         MD        33.8          40601.0   \n",
       "1            Quincy  Massachusetts         MA        41.0          44129.0   \n",
       "2            Hoover        Alabama         AL        38.5          38040.0   \n",
       "3  Rancho Cucamonga     California         CA        34.5          88127.0   \n",
       "4            Newark     New Jersey         NJ        34.6         138040.0   \n",
       "\n",
       "   female_population  total_population  number_of_veterans  foreign_born  \\\n",
       "0            41862.0             82463              1562.0       30908.0   \n",
       "1            49500.0             93629              4147.0       32935.0   \n",
       "2            46799.0             84839              4819.0        8229.0   \n",
       "3            87105.0            175232              5821.0       33878.0   \n",
       "4           143873.0            281913              5829.0       86253.0   \n",
       "\n",
       "   avg_household_size  \n",
       "0                2.60  \n",
       "1                2.39  \n",
       "2                2.58  \n",
       "3                3.18  \n",
       "4                2.73  "
      ]
     },
     "execution_count": 12,
     "metadata": {},
     "output_type": "execute_result"
    }
   ],
   "source": [
    "dim_location = df_demography[['City', 'State','State Code', 'Median Age', 'Male Population', 'Female Population',\n",
    "       'Total Population', 'Number of Veterans', 'Foreign-born',\n",
    "       'Average Household Size']].copy()\n",
    "dim_location.columns = ['city_name','state_name','state_code','median_age','male_population','female_population',\n",
    "                       'total_population','number_of_veterans','foreign_born','avg_household_size']\n",
    "dim_location.head(5)"
   ]
  },
  {
   "cell_type": "markdown",
   "metadata": {
    "editable": true
   },
   "source": [
    "#### Cleaning Steps"
   ]
  },
  {
   "cell_type": "markdown",
   "metadata": {
    "editable": true
   },
   "source": [
    " "
   ]
  },
  {
   "cell_type": "markdown",
   "metadata": {
    "editable": true
   },
   "source": [
    "Get the city_code from I94_SAS_Labels_Descriptions.SAS to give the relationship between the fact_table and dim_location through the city's name"
   ]
  },
  {
   "cell_type": "code",
   "execution_count": 15,
   "metadata": {
    "editable": true
   },
   "outputs": [],
   "source": [
    "with open(\"I94_SAS_Labels_Descriptions.SAS\") as f:\n",
    "    contents = f.readlines()"
   ]
  },
  {
   "cell_type": "code",
   "execution_count": 16,
   "metadata": {
    "editable": true
   },
   "outputs": [
    {
     "data": {
      "text/html": [
       "<div>\n",
       "<style scoped>\n",
       "    .dataframe tbody tr th:only-of-type {\n",
       "        vertical-align: middle;\n",
       "    }\n",
       "\n",
       "    .dataframe tbody tr th {\n",
       "        vertical-align: top;\n",
       "    }\n",
       "\n",
       "    .dataframe thead th {\n",
       "        text-align: right;\n",
       "    }\n",
       "</style>\n",
       "<table border=\"1\" class=\"dataframe\">\n",
       "  <thead>\n",
       "    <tr style=\"text-align: right;\">\n",
       "      <th></th>\n",
       "      <th>city</th>\n",
       "    </tr>\n",
       "  </thead>\n",
       "  <tbody>\n",
       "    <tr>\n",
       "      <th>ANC</th>\n",
       "      <td>ANCHORAGE</td>\n",
       "    </tr>\n",
       "    <tr>\n",
       "      <th>BAR</th>\n",
       "      <td>BAKER AAF - BAKER ISLAND</td>\n",
       "    </tr>\n",
       "    <tr>\n",
       "      <th>DAC</th>\n",
       "      <td>DALTONS CACHE</td>\n",
       "    </tr>\n",
       "    <tr>\n",
       "      <th>PIZ</th>\n",
       "      <td>DEW STATION PT LAY DEW</td>\n",
       "    </tr>\n",
       "    <tr>\n",
       "      <th>DTH</th>\n",
       "      <td>DUTCH HARBOR</td>\n",
       "    </tr>\n",
       "  </tbody>\n",
       "</table>\n",
       "</div>"
      ],
      "text/plain": [
       "                         city\n",
       "ANC                 ANCHORAGE\n",
       "BAR  BAKER AAF - BAKER ISLAND\n",
       "DAC             DALTONS CACHE\n",
       "PIZ    DEW STATION PT LAY DEW\n",
       "DTH              DUTCH HARBOR"
      ]
     },
     "execution_count": 16,
     "metadata": {},
     "output_type": "execute_result"
    }
   ],
   "source": [
    "city_dict = {}\n",
    "for city in contents[303:962]:\n",
    "    code = city.split(\"'\")[1]\n",
    "    city_name = city.split(\"'\")[3].split(\",\")[0]\n",
    "    city_dict[code] = city_name\n",
    "pd.DataFrame.from_dict(city_dict,orient='index',columns=['city']).head()"
   ]
  },
  {
   "cell_type": "code",
   "execution_count": 17,
   "metadata": {
    "editable": true
   },
   "outputs": [
    {
     "data": {
      "text/html": [
       "<div>\n",
       "<style scoped>\n",
       "    .dataframe tbody tr th:only-of-type {\n",
       "        vertical-align: middle;\n",
       "    }\n",
       "\n",
       "    .dataframe tbody tr th {\n",
       "        vertical-align: top;\n",
       "    }\n",
       "\n",
       "    .dataframe thead th {\n",
       "        text-align: right;\n",
       "    }\n",
       "</style>\n",
       "<table border=\"1\" class=\"dataframe\">\n",
       "  <thead>\n",
       "    <tr style=\"text-align: right;\">\n",
       "      <th></th>\n",
       "      <th>cic_id</th>\n",
       "      <th>city_code</th>\n",
       "      <th>state_code</th>\n",
       "      <th>arrival_date</th>\n",
       "      <th>flight_number</th>\n",
       "      <th>visa_type</th>\n",
       "      <th>stay_duration</th>\n",
       "      <th>city_name</th>\n",
       "    </tr>\n",
       "  </thead>\n",
       "  <tbody>\n",
       "    <tr>\n",
       "      <th>0</th>\n",
       "      <td>4084316.0</td>\n",
       "      <td>HHW</td>\n",
       "      <td>HI</td>\n",
       "      <td>20566.0</td>\n",
       "      <td>00782</td>\n",
       "      <td>WT</td>\n",
       "      <td>7.0</td>\n",
       "      <td>HONOLULU</td>\n",
       "    </tr>\n",
       "    <tr>\n",
       "      <th>1</th>\n",
       "      <td>4422636.0</td>\n",
       "      <td>MCA</td>\n",
       "      <td>TX</td>\n",
       "      <td>20567.0</td>\n",
       "      <td>XBLNG</td>\n",
       "      <td>B2</td>\n",
       "      <td>1.0</td>\n",
       "      <td>MCALLEN</td>\n",
       "    </tr>\n",
       "    <tr>\n",
       "      <th>2</th>\n",
       "      <td>1195600.0</td>\n",
       "      <td>OGG</td>\n",
       "      <td>FL</td>\n",
       "      <td>20551.0</td>\n",
       "      <td>00464</td>\n",
       "      <td>WT</td>\n",
       "      <td>20.0</td>\n",
       "      <td>KAHULUI - MAUI</td>\n",
       "    </tr>\n",
       "    <tr>\n",
       "      <th>3</th>\n",
       "      <td>5291768.0</td>\n",
       "      <td>LOS</td>\n",
       "      <td>CA</td>\n",
       "      <td>20572.0</td>\n",
       "      <td>00739</td>\n",
       "      <td>B2</td>\n",
       "      <td>9.0</td>\n",
       "      <td>LOS ANGELES</td>\n",
       "    </tr>\n",
       "    <tr>\n",
       "      <th>4</th>\n",
       "      <td>985523.0</td>\n",
       "      <td>CHM</td>\n",
       "      <td>NY</td>\n",
       "      <td>20550.0</td>\n",
       "      <td>LAND</td>\n",
       "      <td>WT</td>\n",
       "      <td>3.0</td>\n",
       "      <td>CHAMPLAIN</td>\n",
       "    </tr>\n",
       "  </tbody>\n",
       "</table>\n",
       "</div>"
      ],
      "text/plain": [
       "      cic_id city_code state_code  arrival_date flight_number visa_type  \\\n",
       "0  4084316.0       HHW         HI       20566.0         00782        WT   \n",
       "1  4422636.0       MCA         TX       20567.0         XBLNG        B2   \n",
       "2  1195600.0       OGG         FL       20551.0         00464        WT   \n",
       "3  5291768.0       LOS         CA       20572.0         00739        B2   \n",
       "4   985523.0       CHM         NY       20550.0          LAND        WT   \n",
       "\n",
       "   stay_duration       city_name  \n",
       "0            7.0        HONOLULU  \n",
       "1            1.0         MCALLEN  \n",
       "2           20.0  KAHULUI - MAUI  \n",
       "3            9.0     LOS ANGELES  \n",
       "4            3.0       CHAMPLAIN  "
      ]
     },
     "execution_count": 17,
     "metadata": {},
     "output_type": "execute_result"
    }
   ],
   "source": [
    "fact_immigration['city_name']=[city_dict[i] for i in fact_immigration.city_code]\n",
    "fact_immigration.head()"
   ]
  },
  {
   "cell_type": "code",
   "execution_count": 18,
   "metadata": {
    "editable": true
   },
   "outputs": [
    {
     "data": {
      "text/html": [
       "<div>\n",
       "<style scoped>\n",
       "    .dataframe tbody tr th:only-of-type {\n",
       "        vertical-align: middle;\n",
       "    }\n",
       "\n",
       "    .dataframe tbody tr th {\n",
       "        vertical-align: top;\n",
       "    }\n",
       "\n",
       "    .dataframe thead th {\n",
       "        text-align: right;\n",
       "    }\n",
       "</style>\n",
       "<table border=\"1\" class=\"dataframe\">\n",
       "  <thead>\n",
       "    <tr style=\"text-align: right;\">\n",
       "      <th></th>\n",
       "      <th>city_name</th>\n",
       "      <th>state_name</th>\n",
       "      <th>state_code</th>\n",
       "      <th>median_age</th>\n",
       "      <th>male_population</th>\n",
       "      <th>female_population</th>\n",
       "      <th>total_population</th>\n",
       "      <th>number_of_veterans</th>\n",
       "      <th>foreign_born</th>\n",
       "      <th>avg_household_size</th>\n",
       "    </tr>\n",
       "  </thead>\n",
       "  <tbody>\n",
       "    <tr>\n",
       "      <th>0</th>\n",
       "      <td>SILVER SPRING</td>\n",
       "      <td>Maryland</td>\n",
       "      <td>MD</td>\n",
       "      <td>33.8</td>\n",
       "      <td>40601.0</td>\n",
       "      <td>41862.0</td>\n",
       "      <td>82463</td>\n",
       "      <td>1562.0</td>\n",
       "      <td>30908.0</td>\n",
       "      <td>2.60</td>\n",
       "    </tr>\n",
       "    <tr>\n",
       "      <th>1</th>\n",
       "      <td>QUINCY</td>\n",
       "      <td>Massachusetts</td>\n",
       "      <td>MA</td>\n",
       "      <td>41.0</td>\n",
       "      <td>44129.0</td>\n",
       "      <td>49500.0</td>\n",
       "      <td>93629</td>\n",
       "      <td>4147.0</td>\n",
       "      <td>32935.0</td>\n",
       "      <td>2.39</td>\n",
       "    </tr>\n",
       "    <tr>\n",
       "      <th>2</th>\n",
       "      <td>HOOVER</td>\n",
       "      <td>Alabama</td>\n",
       "      <td>AL</td>\n",
       "      <td>38.5</td>\n",
       "      <td>38040.0</td>\n",
       "      <td>46799.0</td>\n",
       "      <td>84839</td>\n",
       "      <td>4819.0</td>\n",
       "      <td>8229.0</td>\n",
       "      <td>2.58</td>\n",
       "    </tr>\n",
       "    <tr>\n",
       "      <th>3</th>\n",
       "      <td>RANCHO CUCAMONGA</td>\n",
       "      <td>California</td>\n",
       "      <td>CA</td>\n",
       "      <td>34.5</td>\n",
       "      <td>88127.0</td>\n",
       "      <td>87105.0</td>\n",
       "      <td>175232</td>\n",
       "      <td>5821.0</td>\n",
       "      <td>33878.0</td>\n",
       "      <td>3.18</td>\n",
       "    </tr>\n",
       "    <tr>\n",
       "      <th>4</th>\n",
       "      <td>NEWARK</td>\n",
       "      <td>New Jersey</td>\n",
       "      <td>NJ</td>\n",
       "      <td>34.6</td>\n",
       "      <td>138040.0</td>\n",
       "      <td>143873.0</td>\n",
       "      <td>281913</td>\n",
       "      <td>5829.0</td>\n",
       "      <td>86253.0</td>\n",
       "      <td>2.73</td>\n",
       "    </tr>\n",
       "  </tbody>\n",
       "</table>\n",
       "</div>"
      ],
      "text/plain": [
       "          city_name     state_name state_code  median_age  male_population  \\\n",
       "0     SILVER SPRING       Maryland         MD        33.8          40601.0   \n",
       "1            QUINCY  Massachusetts         MA        41.0          44129.0   \n",
       "2            HOOVER        Alabama         AL        38.5          38040.0   \n",
       "3  RANCHO CUCAMONGA     California         CA        34.5          88127.0   \n",
       "4            NEWARK     New Jersey         NJ        34.6         138040.0   \n",
       "\n",
       "   female_population  total_population  number_of_veterans  foreign_born  \\\n",
       "0            41862.0             82463              1562.0       30908.0   \n",
       "1            49500.0             93629              4147.0       32935.0   \n",
       "2            46799.0             84839              4819.0        8229.0   \n",
       "3            87105.0            175232              5821.0       33878.0   \n",
       "4           143873.0            281913              5829.0       86253.0   \n",
       "\n",
       "   avg_household_size  \n",
       "0                2.60  \n",
       "1                2.39  \n",
       "2                2.58  \n",
       "3                3.18  \n",
       "4                2.73  "
      ]
     },
     "execution_count": 18,
     "metadata": {},
     "output_type": "execute_result"
    }
   ],
   "source": [
    "#Turn the city's name of dim_location into upper to match with fact_table\n",
    "dim_location['city_name'] = dim_location['city_name'].str.upper()\n",
    "dim_location.head(5)"
   ]
  },
  {
   "cell_type": "markdown",
   "metadata": {
    "editable": true
   },
   "source": [
    "Drop duplication in each table"
   ]
  },
  {
   "cell_type": "code",
   "execution_count": 19,
   "metadata": {
    "editable": true
   },
   "outputs": [],
   "source": [
    "fact_immigration.drop_duplicates(inplace=True,subset=['cic_id'])\n",
    "dim_airline.drop_duplicates(inplace=True,subset=['flight_number'])\n",
    "dim_arrival_date.drop_duplicates(inplace=True,subset=['arrival_date'])\n",
    "dim_location.drop_duplicates(inplace=True,subset=['city_name'])\n",
    "dim_personal.drop_duplicates(inplace=True,subset=['cic_id'])\n",
    "dim_visa.drop_duplicates(inplace=True,subset=['visa_type'])"
   ]
  },
  {
   "cell_type": "markdown",
   "metadata": {
    "editable": true
   },
   "source": [
    "Drop Nan value in each table"
   ]
  },
  {
   "cell_type": "code",
   "execution_count": 20,
   "metadata": {
    "editable": true
   },
   "outputs": [],
   "source": [
    "fact_immigration.dropna(inplace=True,subset=['cic_id'])\n",
    "dim_airline.dropna(inplace=True,subset=['flight_number'])\n",
    "dim_arrival_date.dropna(inplace=True,subset=['arrival_date'])\n",
    "dim_location.dropna(inplace=True,subset=['city_name'])\n",
    "dim_personal.dropna(inplace=True,subset=['cic_id'])\n",
    "dim_visa.dropna(inplace=True,subset=['visa_type'])"
   ]
  },
  {
   "cell_type": "markdown",
   "metadata": {
    "editable": true
   },
   "source": [
    "### Step 3: Define the Data Model\n",
    "#### 3.1 Conceptual Data Model\n",
    "\n",
    "![schema](images/schema.png)"
   ]
  },
  {
   "cell_type": "markdown",
   "metadata": {
    "editable": true
   },
   "source": [
    "**dim_personal**: The dimension table about personal information likes gender, year of birth, country of born and living. It help to specify and give more information about each immigrant or traveler. \n",
    "\n",
    " **dim_arrival_date**: The date which immigrants or travelers arrive US. Table will contain the separate time units like year, month, day to help stack holders query more easier.\n",
    " \n",
    " **dim_visa**: The dimension table which contain visa type and visa purpose.\n",
    " \n",
    " **dim_location**: The dimension table about location which immigrant arrives. It provide more information about demographics of the place where immigrants or travelers want to visit.\n",
    " \n",
    " **dim_airline**: The dimension table has information about the airline brand and flight number which immigrants or travelers chose. \n",
    " \n",
    " **fact_immigration**: The fact table which has information columns to link to the dimension tables and show the stay duration of the immigrant or traveler. It will help stack holder can research and explore which elements will attract the immigrants and travelers. "
   ]
  },
  {
   "cell_type": "markdown",
   "metadata": {
    "editable": true
   },
   "source": [
    "#### 3.2 Mapping Out Data Pipelines\n",
    "\n",
    "1. Loading datasets from S3 bucket\n",
    "2. From I94 Immigration dataset we create fact_table, dim_personal, dim_arrival_date, dim_visa, dim_airline\n",
    "3. From Demography dataset we create the dim_location \n",
    "4. Which cleaning steps in step 2, we modify fact_table and dim_location, drop duplicate and drop Nan in each Primary Key of tables\n",
    "5. Put back the fact and dimension table into S3 bucket"
   ]
  },
  {
   "cell_type": "markdown",
   "metadata": {
    "editable": true
   },
   "source": [
    "### Step 4: Run Pipelines to Model the Data \n",
    "#### 4.1 Create the data model\n",
    "Build the data pipelines to create the data model. Please refer to elt.py for completed pipeline."
   ]
  },
  {
   "cell_type": "code",
   "execution_count": 1,
   "metadata": {
    "editable": true
   },
   "outputs": [],
   "source": [
    "import os\n",
    "import logging\n",
    "import configparser\n",
    "from datetime import datetime, timedelta\n",
    "from pyspark.sql import SparkSession\n",
    "from pyspark.sql.types import TimestampType\n",
    "from pyspark.sql.functions import udf, col, expr, monotonically_increasing_id, to_timestamp, upper\n",
    "from pyspark.sql.functions import year, month, dayofmonth, hour, weekofyear, date_format, dayofweek\n",
    "from pyspark.sql import SparkSession"
   ]
  },
  {
   "cell_type": "code",
   "execution_count": 2,
   "metadata": {
    "editable": true
   },
   "outputs": [],
   "source": [
    "config = configparser.ConfigParser()\n",
    "config.read('dl.cfg')\n",
    "\n",
    "os.environ[\"JAVA_HOME\"] = \"/usr/lib/jvm/java-8-openjdk-amd64\"\n",
    "os.environ[\"PATH\"] = \"/opt/conda/bin:/opt/spark-2.4.3-bin-hadoop2.7/bin:/opt/conda/bin:/usr/local/sbin:/usr/local/bin:/usr/sbin:/usr/bin:/sbin:/bin:/usr/lib/jvm/java-8-openjdk-amd64/bin\"\n",
    "os.environ[\"SPARK_HOME\"] = \"/opt/spark-2.4.3-bin-hadoop2.7\"\n",
    "os.environ[\"HADOOP_HOME\"] = \"/opt/spark-2.4.3-bin-hadoop2.7\"\n",
    "os.environ['AWS_ACCESS_KEY_ID'] = config['AWS']['AWS_ACCESS_KEY_ID']\n",
    "os.environ['AWS_SECRET_ACCESS_KEY'] = config['AWS']['AWS_SECRET_ACCESS_KEY']\n",
    "\n",
    "from pyspark.sql import SparkSession\n",
    "spark = SparkSession.builder.config(\"spark.jars.packages\", \"org.apache.hadoop:hadoop-aws:2.7.0\").getOrCreate()\n"
   ]
  },
  {
   "cell_type": "code",
   "execution_count": 3,
   "metadata": {
    "editable": true
   },
   "outputs": [],
   "source": [
    "#loading immigration data\n",
    "df_immi =spark.read.load('./sas_data')"
   ]
  },
  {
   "cell_type": "code",
   "execution_count": 4,
   "metadata": {
    "editable": true
   },
   "outputs": [
    {
     "data": {
      "text/html": [
       "<div>\n",
       "<style scoped>\n",
       "    .dataframe tbody tr th:only-of-type {\n",
       "        vertical-align: middle;\n",
       "    }\n",
       "\n",
       "    .dataframe tbody tr th {\n",
       "        vertical-align: top;\n",
       "    }\n",
       "\n",
       "    .dataframe thead th {\n",
       "        text-align: right;\n",
       "    }\n",
       "</style>\n",
       "<table border=\"1\" class=\"dataframe\">\n",
       "  <thead>\n",
       "    <tr style=\"text-align: right;\">\n",
       "      <th></th>\n",
       "      <th>cic_id</th>\n",
       "      <th>city_code</th>\n",
       "      <th>state_code</th>\n",
       "      <th>arrival_date</th>\n",
       "      <th>flight_number</th>\n",
       "      <th>visa_type</th>\n",
       "      <th>stay_duration</th>\n",
       "      <th>city_name</th>\n",
       "    </tr>\n",
       "  </thead>\n",
       "  <tbody>\n",
       "    <tr>\n",
       "      <th>0</th>\n",
       "      <td>299.0</td>\n",
       "      <td>NYC</td>\n",
       "      <td>NY</td>\n",
       "      <td>20545.0</td>\n",
       "      <td>00087</td>\n",
       "      <td>WT</td>\n",
       "      <td>5.0</td>\n",
       "      <td>NEW YORK</td>\n",
       "    </tr>\n",
       "    <tr>\n",
       "      <th>1</th>\n",
       "      <td>305.0</td>\n",
       "      <td>NYC</td>\n",
       "      <td>NY</td>\n",
       "      <td>20545.0</td>\n",
       "      <td>00087</td>\n",
       "      <td>WT</td>\n",
       "      <td>10.0</td>\n",
       "      <td>NEW YORK</td>\n",
       "    </tr>\n",
       "    <tr>\n",
       "      <th>2</th>\n",
       "      <td>496.0</td>\n",
       "      <td>CHI</td>\n",
       "      <td>IL</td>\n",
       "      <td>20545.0</td>\n",
       "      <td>00065</td>\n",
       "      <td>WB</td>\n",
       "      <td>3.0</td>\n",
       "      <td>CHICAGO</td>\n",
       "    </tr>\n",
       "    <tr>\n",
       "      <th>3</th>\n",
       "      <td>558.0</td>\n",
       "      <td>SFR</td>\n",
       "      <td>CA</td>\n",
       "      <td>20545.0</td>\n",
       "      <td>00454</td>\n",
       "      <td>WB</td>\n",
       "      <td>2.0</td>\n",
       "      <td>SAN FRANCISCO</td>\n",
       "    </tr>\n",
       "    <tr>\n",
       "      <th>4</th>\n",
       "      <td>596.0</td>\n",
       "      <td>NAS</td>\n",
       "      <td>FL</td>\n",
       "      <td>20545.0</td>\n",
       "      <td>00221</td>\n",
       "      <td>WT</td>\n",
       "      <td>2.0</td>\n",
       "      <td>NASSAU</td>\n",
       "    </tr>\n",
       "  </tbody>\n",
       "</table>\n",
       "</div>"
      ],
      "text/plain": [
       "   cic_id city_code state_code  arrival_date flight_number visa_type  \\\n",
       "0   299.0       NYC         NY       20545.0         00087        WT   \n",
       "1   305.0       NYC         NY       20545.0         00087        WT   \n",
       "2   496.0       CHI         IL       20545.0         00065        WB   \n",
       "3   558.0       SFR         CA       20545.0         00454        WB   \n",
       "4   596.0       NAS         FL       20545.0         00221        WT   \n",
       "\n",
       "   stay_duration      city_name  \n",
       "0            5.0       NEW YORK  \n",
       "1           10.0       NEW YORK  \n",
       "2            3.0        CHICAGO  \n",
       "3            2.0  SAN FRANCISCO  \n",
       "4            2.0         NASSAU  "
      ]
     },
     "execution_count": 4,
     "metadata": {},
     "output_type": "execute_result"
    }
   ],
   "source": [
    "#transform and loading data into fact_immigration\n",
    "fact_immigration = df_immi.withColumn('stay_duration', expr('depdate - arrdate'))\\\n",
    "        .selectExpr('cicid as cic_id',\n",
    "                    'i94port as city_code',\n",
    "                    'i94addr as state_code',\n",
    "                    'arrdate as arrival_date',\n",
    "                    'fltno as flight_number',\n",
    "                    'visatype as visa_type',\n",
    "                    'stay_duration')\n",
    "\n",
    "with open(\"I94_SAS_Labels_Descriptions.SAS\") as f:\n",
    "    contents = f.readlines()\n",
    "\n",
    "# create dictionary of city_code and city_name\n",
    "city_dict = {}\n",
    "for city in contents[303:962]:\n",
    "    code = city.split(\"'\")[1]\n",
    "    city_name = city.split(\"'\")[3].split(\",\")[0]\n",
    "    city_dict[code] = city_name\n",
    "\n",
    "# create udf of transforming between city_code into city_name\n",
    "get_city_name = udf(\n",
    "    lambda z: city_dict[z] if z in city_dict.keys() else None)\n",
    "\n",
    "fact_immigration = fact_immigration\\\n",
    "        .withColumn('city_name', get_city_name(col('city_code')))\\\n",
    "        .drop_duplicates(subset=['cic_id']).dropna(subset=(['cic_id']))\n",
    "\n",
    "fact_immigration.limit(5).toPandas()"
   ]
  },
  {
   "cell_type": "code",
   "execution_count": 5,
   "metadata": {
    "editable": true
   },
   "outputs": [
    {
     "data": {
      "text/html": [
       "<div>\n",
       "<style scoped>\n",
       "    .dataframe tbody tr th:only-of-type {\n",
       "        vertical-align: middle;\n",
       "    }\n",
       "\n",
       "    .dataframe tbody tr th {\n",
       "        vertical-align: top;\n",
       "    }\n",
       "\n",
       "    .dataframe thead th {\n",
       "        text-align: right;\n",
       "    }\n",
       "</style>\n",
       "<table border=\"1\" class=\"dataframe\">\n",
       "  <thead>\n",
       "    <tr style=\"text-align: right;\">\n",
       "      <th></th>\n",
       "      <th>arrival_date</th>\n",
       "      <th>arrival_datetime</th>\n",
       "      <th>year</th>\n",
       "      <th>month</th>\n",
       "      <th>day</th>\n",
       "    </tr>\n",
       "  </thead>\n",
       "  <tbody>\n",
       "    <tr>\n",
       "      <th>0</th>\n",
       "      <td>20550.0</td>\n",
       "      <td>2016-04-06</td>\n",
       "      <td>2016</td>\n",
       "      <td>4</td>\n",
       "      <td>6</td>\n",
       "    </tr>\n",
       "    <tr>\n",
       "      <th>1</th>\n",
       "      <td>20556.0</td>\n",
       "      <td>2016-04-12</td>\n",
       "      <td>2016</td>\n",
       "      <td>4</td>\n",
       "      <td>12</td>\n",
       "    </tr>\n",
       "    <tr>\n",
       "      <th>2</th>\n",
       "      <td>20553.0</td>\n",
       "      <td>2016-04-09</td>\n",
       "      <td>2016</td>\n",
       "      <td>4</td>\n",
       "      <td>9</td>\n",
       "    </tr>\n",
       "    <tr>\n",
       "      <th>3</th>\n",
       "      <td>20551.0</td>\n",
       "      <td>2016-04-07</td>\n",
       "      <td>2016</td>\n",
       "      <td>4</td>\n",
       "      <td>7</td>\n",
       "    </tr>\n",
       "    <tr>\n",
       "      <th>4</th>\n",
       "      <td>20565.0</td>\n",
       "      <td>2016-04-21</td>\n",
       "      <td>2016</td>\n",
       "      <td>4</td>\n",
       "      <td>21</td>\n",
       "    </tr>\n",
       "  </tbody>\n",
       "</table>\n",
       "</div>"
      ],
      "text/plain": [
       "   arrival_date arrival_datetime  year  month  day\n",
       "0       20550.0       2016-04-06  2016      4    6\n",
       "1       20556.0       2016-04-12  2016      4   12\n",
       "2       20553.0       2016-04-09  2016      4    9\n",
       "3       20551.0       2016-04-07  2016      4    7\n",
       "4       20565.0       2016-04-21  2016      4   21"
      ]
     },
     "execution_count": 5,
     "metadata": {},
     "output_type": "execute_result"
    }
   ],
   "source": [
    "# crate get_datetime udf to transform SAS date into datetime\n",
    "get_datetime = udf(lambda z: datetime(\n",
    "    1960, 1, 1) + timedelta(days=int(z)) if z is not None else None, TimestampType())\n",
    "\n",
    "# extract SAS arrival_date from staging table\n",
    "dim_arrival_date = df_immi.selectExpr('arrdate as arrival_date')\n",
    "\n",
    "# create new column with datetime type\n",
    "dim_arrival_date = dim_arrival_date.withColumn(\n",
    "    'arrival_datetime', get_datetime('arrival_date'))\n",
    "\n",
    "# wrangling datetime type into different units\n",
    "dim_arrival_date = dim_arrival_date.selectExpr('arrival_date',\n",
    "                                               'arrival_datetime',\n",
    "                                               'year(arrival_datetime) as year',\n",
    "                                               'month(arrival_datetime) as month',\n",
    "                                               'dayofmonth(arrival_datetime) as day'\n",
    "                                               ).drop_duplicates(subset=['arrival_date']).dropna(subset=(['arrival_date']))\n",
    "dim_arrival_date.limit(5).toPandas()"
   ]
  },
  {
   "cell_type": "code",
   "execution_count": 6,
   "metadata": {
    "editable": true
   },
   "outputs": [
    {
     "data": {
      "text/html": [
       "<div>\n",
       "<style scoped>\n",
       "    .dataframe tbody tr th:only-of-type {\n",
       "        vertical-align: middle;\n",
       "    }\n",
       "\n",
       "    .dataframe tbody tr th {\n",
       "        vertical-align: top;\n",
       "    }\n",
       "\n",
       "    .dataframe thead th {\n",
       "        text-align: right;\n",
       "    }\n",
       "</style>\n",
       "<table border=\"1\" class=\"dataframe\">\n",
       "  <thead>\n",
       "    <tr style=\"text-align: right;\">\n",
       "      <th></th>\n",
       "      <th>visa_type</th>\n",
       "      <th>visa_purpose</th>\n",
       "    </tr>\n",
       "  </thead>\n",
       "  <tbody>\n",
       "    <tr>\n",
       "      <th>0</th>\n",
       "      <td>F2</td>\n",
       "      <td>3.0</td>\n",
       "    </tr>\n",
       "    <tr>\n",
       "      <th>1</th>\n",
       "      <td>GMB</td>\n",
       "      <td>1.0</td>\n",
       "    </tr>\n",
       "    <tr>\n",
       "      <th>2</th>\n",
       "      <td>B2</td>\n",
       "      <td>2.0</td>\n",
       "    </tr>\n",
       "    <tr>\n",
       "      <th>3</th>\n",
       "      <td>F1</td>\n",
       "      <td>3.0</td>\n",
       "    </tr>\n",
       "    <tr>\n",
       "      <th>4</th>\n",
       "      <td>CPL</td>\n",
       "      <td>2.0</td>\n",
       "    </tr>\n",
       "  </tbody>\n",
       "</table>\n",
       "</div>"
      ],
      "text/plain": [
       "  visa_type  visa_purpose\n",
       "0        F2           3.0\n",
       "1       GMB           1.0\n",
       "2        B2           2.0\n",
       "3        F1           3.0\n",
       "4       CPL           2.0"
      ]
     },
     "execution_count": 6,
     "metadata": {},
     "output_type": "execute_result"
    }
   ],
   "source": [
    "# extract columns into dim_visa\n",
    "dim_visa = df_immi.selectExpr('visatype as visa_type',\n",
    "                              'i94visa as visa_purpose'\n",
    "                              ).drop_duplicates(subset=['visa_type']).dropna(subset=(['visa_type']))\n",
    "dim_visa.limit(5).toPandas()"
   ]
  },
  {
   "cell_type": "code",
   "execution_count": 7,
   "metadata": {
    "editable": true
   },
   "outputs": [
    {
     "data": {
      "text/html": [
       "<div>\n",
       "<style scoped>\n",
       "    .dataframe tbody tr th:only-of-type {\n",
       "        vertical-align: middle;\n",
       "    }\n",
       "\n",
       "    .dataframe tbody tr th {\n",
       "        vertical-align: top;\n",
       "    }\n",
       "\n",
       "    .dataframe thead th {\n",
       "        text-align: right;\n",
       "    }\n",
       "</style>\n",
       "<table border=\"1\" class=\"dataframe\">\n",
       "  <thead>\n",
       "    <tr style=\"text-align: right;\">\n",
       "      <th></th>\n",
       "      <th>cic_id</th>\n",
       "      <th>country_of_birth</th>\n",
       "      <th>country_of_residence</th>\n",
       "      <th>year_of_birth</th>\n",
       "      <th>gender</th>\n",
       "    </tr>\n",
       "  </thead>\n",
       "  <tbody>\n",
       "    <tr>\n",
       "      <th>0</th>\n",
       "      <td>299.0</td>\n",
       "      <td>103.0</td>\n",
       "      <td>103.0</td>\n",
       "      <td>1962.0</td>\n",
       "      <td>None</td>\n",
       "    </tr>\n",
       "    <tr>\n",
       "      <th>1</th>\n",
       "      <td>305.0</td>\n",
       "      <td>103.0</td>\n",
       "      <td>103.0</td>\n",
       "      <td>1953.0</td>\n",
       "      <td>None</td>\n",
       "    </tr>\n",
       "    <tr>\n",
       "      <th>2</th>\n",
       "      <td>496.0</td>\n",
       "      <td>103.0</td>\n",
       "      <td>103.0</td>\n",
       "      <td>1952.0</td>\n",
       "      <td>None</td>\n",
       "    </tr>\n",
       "    <tr>\n",
       "      <th>3</th>\n",
       "      <td>558.0</td>\n",
       "      <td>103.0</td>\n",
       "      <td>103.0</td>\n",
       "      <td>1974.0</td>\n",
       "      <td>M</td>\n",
       "    </tr>\n",
       "    <tr>\n",
       "      <th>4</th>\n",
       "      <td>596.0</td>\n",
       "      <td>103.0</td>\n",
       "      <td>103.0</td>\n",
       "      <td>1992.0</td>\n",
       "      <td>M</td>\n",
       "    </tr>\n",
       "  </tbody>\n",
       "</table>\n",
       "</div>"
      ],
      "text/plain": [
       "   cic_id  country_of_birth  country_of_residence  year_of_birth gender\n",
       "0   299.0             103.0                 103.0         1962.0   None\n",
       "1   305.0             103.0                 103.0         1953.0   None\n",
       "2   496.0             103.0                 103.0         1952.0   None\n",
       "3   558.0             103.0                 103.0         1974.0      M\n",
       "4   596.0             103.0                 103.0         1992.0      M"
      ]
     },
     "execution_count": 7,
     "metadata": {},
     "output_type": "execute_result"
    }
   ],
   "source": [
    "# extract columns into dim_person\n",
    "dim_personal = df_immi.selectExpr('cicid as cic_id',\n",
    "                                      'i94cit as country_of_birth',\n",
    "                                      'i94res as country_of_residence',\n",
    "                                      'biryear as year_of_birth',\n",
    "                                      'gender'\n",
    "                                      ).drop_duplicates(subset=['cic_id']).dropna(subset=(['cic_id']))\n",
    "dim_personal.limit(5).toPandas()"
   ]
  },
  {
   "cell_type": "code",
   "execution_count": 8,
   "metadata": {
    "editable": true
   },
   "outputs": [
    {
     "data": {
      "text/html": [
       "<div>\n",
       "<style scoped>\n",
       "    .dataframe tbody tr th:only-of-type {\n",
       "        vertical-align: middle;\n",
       "    }\n",
       "\n",
       "    .dataframe tbody tr th {\n",
       "        vertical-align: top;\n",
       "    }\n",
       "\n",
       "    .dataframe thead th {\n",
       "        text-align: right;\n",
       "    }\n",
       "</style>\n",
       "<table border=\"1\" class=\"dataframe\">\n",
       "  <thead>\n",
       "    <tr style=\"text-align: right;\">\n",
       "      <th></th>\n",
       "      <th>flight_number</th>\n",
       "      <th>airline_brand</th>\n",
       "    </tr>\n",
       "  </thead>\n",
       "  <tbody>\n",
       "    <tr>\n",
       "      <th>0</th>\n",
       "      <td>00332</td>\n",
       "      <td>YNT</td>\n",
       "    </tr>\n",
       "    <tr>\n",
       "      <th>1</th>\n",
       "      <td>00456</td>\n",
       "      <td>LH</td>\n",
       "    </tr>\n",
       "    <tr>\n",
       "      <th>2</th>\n",
       "      <td>00530</td>\n",
       "      <td>DL</td>\n",
       "    </tr>\n",
       "    <tr>\n",
       "      <th>3</th>\n",
       "      <td>00556</td>\n",
       "      <td>DL</td>\n",
       "    </tr>\n",
       "    <tr>\n",
       "      <th>4</th>\n",
       "      <td>0059C</td>\n",
       "      <td>UA</td>\n",
       "    </tr>\n",
       "  </tbody>\n",
       "</table>\n",
       "</div>"
      ],
      "text/plain": [
       "  flight_number airline_brand\n",
       "0         00332           YNT\n",
       "1         00456            LH\n",
       "2         00530            DL\n",
       "3         00556            DL\n",
       "4         0059C            UA"
      ]
     },
     "execution_count": 8,
     "metadata": {},
     "output_type": "execute_result"
    }
   ],
   "source": [
    "# extract columns into dim_airline\n",
    "dim_airline = df_immi.selectExpr('fltno as flight_number',\n",
    "                                     'airline as airline_brand'\n",
    "                                     ).drop_duplicates(subset=['flight_number']).dropna(subset=(['flight_number']))\n",
    "dim_airline.limit(5).toPandas()"
   ]
  },
  {
   "cell_type": "code",
   "execution_count": 9,
   "metadata": {
    "editable": true
   },
   "outputs": [],
   "source": [
    "# Getting data demographic\n",
    "df_demographic = spark.read.format('csv')\\\n",
    "        .options(header=True, delimiter=';')\\\n",
    "        .load(\"us-cities-demographics.csv\")"
   ]
  },
  {
   "cell_type": "code",
   "execution_count": 10,
   "metadata": {
    "editable": true
   },
   "outputs": [
    {
     "data": {
      "text/html": [
       "<div>\n",
       "<style scoped>\n",
       "    .dataframe tbody tr th:only-of-type {\n",
       "        vertical-align: middle;\n",
       "    }\n",
       "\n",
       "    .dataframe tbody tr th {\n",
       "        vertical-align: top;\n",
       "    }\n",
       "\n",
       "    .dataframe thead th {\n",
       "        text-align: right;\n",
       "    }\n",
       "</style>\n",
       "<table border=\"1\" class=\"dataframe\">\n",
       "  <thead>\n",
       "    <tr style=\"text-align: right;\">\n",
       "      <th></th>\n",
       "      <th>city_name</th>\n",
       "      <th>state_name</th>\n",
       "      <th>state_code</th>\n",
       "      <th>median_age</th>\n",
       "      <th>male_population</th>\n",
       "      <th>female_population</th>\n",
       "      <th>total_population</th>\n",
       "      <th>number_of_veterans</th>\n",
       "      <th>foreign_born</th>\n",
       "      <th>avg_household_size</th>\n",
       "    </tr>\n",
       "  </thead>\n",
       "  <tbody>\n",
       "    <tr>\n",
       "      <th>0</th>\n",
       "      <td>CHINO</td>\n",
       "      <td>California</td>\n",
       "      <td>CA</td>\n",
       "      <td>36.5</td>\n",
       "      <td>50989</td>\n",
       "      <td>34610</td>\n",
       "      <td>85599</td>\n",
       "      <td>4186</td>\n",
       "      <td>18666</td>\n",
       "      <td>3.62</td>\n",
       "    </tr>\n",
       "    <tr>\n",
       "      <th>1</th>\n",
       "      <td>STAMFORD</td>\n",
       "      <td>Connecticut</td>\n",
       "      <td>CT</td>\n",
       "      <td>35.4</td>\n",
       "      <td>64941</td>\n",
       "      <td>63936</td>\n",
       "      <td>128877</td>\n",
       "      <td>2269</td>\n",
       "      <td>44003</td>\n",
       "      <td>2.7</td>\n",
       "    </tr>\n",
       "    <tr>\n",
       "      <th>2</th>\n",
       "      <td>YAKIMA</td>\n",
       "      <td>Washington</td>\n",
       "      <td>WA</td>\n",
       "      <td>34.0</td>\n",
       "      <td>45147</td>\n",
       "      <td>48553</td>\n",
       "      <td>93700</td>\n",
       "      <td>4705</td>\n",
       "      <td>15717</td>\n",
       "      <td>2.74</td>\n",
       "    </tr>\n",
       "    <tr>\n",
       "      <th>3</th>\n",
       "      <td>AMARILLO</td>\n",
       "      <td>Texas</td>\n",
       "      <td>TX</td>\n",
       "      <td>33.8</td>\n",
       "      <td>99391</td>\n",
       "      <td>100260</td>\n",
       "      <td>199651</td>\n",
       "      <td>11008</td>\n",
       "      <td>21124</td>\n",
       "      <td>2.64</td>\n",
       "    </tr>\n",
       "    <tr>\n",
       "      <th>4</th>\n",
       "      <td>MUNCIE</td>\n",
       "      <td>Indiana</td>\n",
       "      <td>IN</td>\n",
       "      <td>27.4</td>\n",
       "      <td>32446</td>\n",
       "      <td>37255</td>\n",
       "      <td>69701</td>\n",
       "      <td>2968</td>\n",
       "      <td>1062</td>\n",
       "      <td>2.35</td>\n",
       "    </tr>\n",
       "  </tbody>\n",
       "</table>\n",
       "</div>"
      ],
      "text/plain": [
       "  city_name   state_name state_code median_age male_population  \\\n",
       "0     CHINO   California         CA       36.5           50989   \n",
       "1  STAMFORD  Connecticut         CT       35.4           64941   \n",
       "2    YAKIMA   Washington         WA       34.0           45147   \n",
       "3  AMARILLO        Texas         TX       33.8           99391   \n",
       "4    MUNCIE      Indiana         IN       27.4           32446   \n",
       "\n",
       "  female_population total_population number_of_veterans foreign_born  \\\n",
       "0             34610            85599               4186        18666   \n",
       "1             63936           128877               2269        44003   \n",
       "2             48553            93700               4705        15717   \n",
       "3            100260           199651              11008        21124   \n",
       "4             37255            69701               2968         1062   \n",
       "\n",
       "  avg_household_size  \n",
       "0               3.62  \n",
       "1                2.7  \n",
       "2               2.74  \n",
       "3               2.64  \n",
       "4               2.35  "
      ]
     },
     "execution_count": 10,
     "metadata": {},
     "output_type": "execute_result"
    }
   ],
   "source": [
    "# Extract and loading into dim_location\n",
    "dim_location = df_demographic.selectExpr('upper(City) as city_name',\n",
    "                                             'State as state_name',\n",
    "                                             '`State Code` as state_code',\n",
    "                                             '`Median Age` as median_age',\n",
    "                                             '`Male Population` as male_population',\n",
    "                                             '`Female Population` as female_population',\n",
    "                                             '`Total Population` as total_population',\n",
    "                                             '`Number of Veterans` as number_of_veterans',\n",
    "                                             '`Foreign-born` as foreign_born',\n",
    "                                             '`Average Household Size` as avg_household_size'\n",
    "                                             ).drop_duplicates(subset=['city_name']).dropna(subset=(['city_name']))\n",
    "dim_location.limit(5).toPandas()"
   ]
  },
  {
   "cell_type": "code",
   "execution_count": 38,
   "metadata": {
    "editable": true
   },
   "outputs": [],
   "source": [
    "# write the output into s3 bucket\n",
    "fact_immigration.write.partitionBy(['city_code']).parquet('s3a://vuongnd9-udacity-output/fact_immigration', mode='overwrite')\n",
    "dim_arrival_date.write.mode(\"overwrite\").parquet(path=output_data + 'dim_arrival_date')\n",
    "dim_visa.write.mode(\"overwrite\").parquet(path=output_data + 'dim_visa')\n",
    "dim_personal.write.mode(\"overwrite\").parquet(path=output_data + 'dim_personal')\n",
    "dim_airline.write.mode(\"overwrite\").parquet(path=output_data + 'dim_airline')\n",
    "dim_location.write.mode(\"overwrite\").parquet(path=output_data + 'dim_location')"
   ]
  },
  {
   "cell_type": "markdown",
   "metadata": {
    "editable": true
   },
   "source": [
    "**Scenarios of using data model**"
   ]
  },
  {
   "cell_type": "code",
   "execution_count": 55,
   "metadata": {
    "editable": true
   },
   "outputs": [],
   "source": [
    "fact_immigration.createOrReplaceTempView(\"fact_immigration\")\n",
    "dim_airline.createOrReplaceTempView(\"dim_airline\")\n",
    "dim_arrival_date.createOrReplaceTempView(\"dim_arrival_date\")\n",
    "dim_location.createOrReplaceTempView(\"dim_location\")\n",
    "dim_personal.createOrReplaceTempView(\"dim_personal\")\n",
    "dim_visa.createOrReplaceTempView(\"dim_visa\")"
   ]
  },
  {
   "cell_type": "markdown",
   "metadata": {
    "editable": true
   },
   "source": [
    "1. Check the top 5 choices of immigrant about airline brand"
   ]
  },
  {
   "cell_type": "code",
   "execution_count": 63,
   "metadata": {
    "editable": true
   },
   "outputs": [
    {
     "name": "stdout",
     "output_type": "stream",
     "text": [
      "+-------------+------+\n",
      "|airline_brand|people|\n",
      "+-------------+------+\n",
      "|           DL|388471|\n",
      "|           AA|384786|\n",
      "|           UA|273248|\n",
      "|           BA|190958|\n",
      "|           AV|125686|\n",
      "+-------------+------+\n",
      "\n"
     ]
    }
   ],
   "source": [
    "spark.sql(\"\"\" SELECT a.airline_brand, COUNT(*) as people\n",
    "              FROM fact_immigration f JOIN dim_airline a\n",
    "                  on f.flight_number = a.flight_number \n",
    "              GROUP BY a.airline_brand \n",
    "              ORDER BY people DESC\n",
    "              LIMIT 5\"\"\").show()"
   ]
  },
  {
   "cell_type": "markdown",
   "metadata": {
    "editable": true
   },
   "source": [
    "2. Check the top 5 location make immigrant want to stay longer"
   ]
  },
  {
   "cell_type": "code",
   "execution_count": 69,
   "metadata": {
    "editable": true
   },
   "outputs": [
    {
     "name": "stdout",
     "output_type": "stream",
     "text": [
      "+-------------+---------+----------+\n",
      "|    city_name|      day|visit_turn|\n",
      "+-------------+---------+----------+\n",
      "|     NEW YORK|6181103.0|    485916|\n",
      "|  LOS ANGELES|4617642.0|    310163|\n",
      "|        MIAMI|4535697.0|    343941|\n",
      "|SAN FRANCISCO|2344869.0|    152586|\n",
      "|      CHICAGO|2093979.0|    130564|\n",
      "+-------------+---------+----------+\n",
      "\n"
     ]
    }
   ],
   "source": [
    "spark.sql(\"\"\" SELECT f.city_name, SUM(f.stay_duration) as day, COUNT(*) as visit_turn\n",
    "              FROM fact_immigration f JOIN dim_location l\n",
    "                  on f.city_name = l.city_name \n",
    "              GROUP BY f.city_name\n",
    "              ORDER BY day DESC\n",
    "              LIMIT 5\"\"\").show()"
   ]
  },
  {
   "cell_type": "markdown",
   "metadata": {
    "editable": true
   },
   "source": [
    "3. Check the top 3 day of month which are the most attract immigrant"
   ]
  },
  {
   "cell_type": "code",
   "execution_count": 72,
   "metadata": {
    "editable": true
   },
   "outputs": [
    {
     "name": "stdout",
     "output_type": "stream",
     "text": [
      "+---+---------+----------+\n",
      "|day|      day|visit_turn|\n",
      "+---+---------+----------+\n",
      "| 30|1612870.0|    127155|\n",
      "| 29|1553943.0|    128267|\n",
      "| 28|1540164.0|    120971|\n",
      "+---+---------+----------+\n",
      "\n"
     ]
    }
   ],
   "source": [
    "spark.sql(\"\"\" SELECT d.day, SUM(f.stay_duration) as day, COUNT(*) as visit_turn\n",
    "              FROM fact_immigration f JOIN dim_arrival_date d\n",
    "                  on f.arrival_date = d.arrival_date \n",
    "              GROUP BY d.day\n",
    "              ORDER BY day DESC\n",
    "              LIMIT 3\"\"\").show()"
   ]
  },
  {
   "cell_type": "markdown",
   "metadata": {
    "editable": true
   },
   "source": [
    "#### 4.2 Data Quality Checks\n",
    "Quality check will check that all tables will have records. Refer to quality_check.py for completed file."
   ]
  },
  {
   "cell_type": "code",
   "execution_count": 22,
   "metadata": {
    "editable": true
   },
   "outputs": [],
   "source": [
    "# Write code here\n",
    "import os\n",
    "import logging\n",
    "import configparser\n",
    "from pyspark.sql import SparkSession\n",
    "\n",
    "\n",
    "# AWS configuration\n",
    "config = configparser.ConfigParser()\n",
    "config.read('dl.cfg')\n",
    "\n",
    "os.environ['AWS_ACCESS_KEY_ID'] = config['AWS']['AWS_ACCESS_KEY_ID']\n",
    "os.environ['AWS_SECRET_ACCESS_KEY'] = config['AWS']['AWS_SECRET_ACCESS_KEY']\n",
    "\n",
    "\n",
    "def create_spark_session():\n",
    "    \"\"\" Create spark session to process data \"\"\"\n",
    "    spark = SparkSession.builder\\\n",
    "                        .config(\"spark.jars.packages\", \"org.apache.hadoop:hadoop-aws:2.7.0\")\\\n",
    "                        .getOrCreate()\n",
    "    return spark\n",
    "\n",
    "\n",
    "def check_records(spark, table_name, s3_bucket,primary_key):\n",
    "    \"\"\" Check the number of record in each table\n",
    "    ----------------------------\n",
    "    Args:\n",
    "        spark: Spark Session\n",
    "        table_name: name of table\n",
    "        s3_bucket: s3 bucket endpoint\n",
    "\n",
    "    Return:\n",
    "        None\n",
    "     \"\"\"\n",
    "    s3_source = Path(f\"{s3_bucket}{table_name}\")\n",
    "\n",
    "    for s3_dir in s3_source.iterdir():\n",
    "        if s3_dir.is_dir():\n",
    "            df = spark.read.parquet(str(s3_dir))\n",
    "            record_num = df.count()\n",
    "            if record_num <= 0:\n",
    "                raise ValueError(\n",
    "                    f\"{table_name} table is empty - quality check fail!\")\n",
    "            elif record_num > df.select(primary_key).distinct().count():\n",
    "                raise ValueError(\n",
    "                    f\"{table_name} table duplicates the unique key {primary_key} - quality check fail!\")\n",
    "            elif df.where(col(primary_key).isNull()).count() != 0:\n",
    "                raise ValueError(\n",
    "                    f\"{table_name} has missing values in {primary_key} - quality check fail!\")\n",
    "            else:\n",
    "                print(f\"{table_name} have {record_num} rows without duplication - quality check pass!\")\n",
    "\n",
    "\n",
    "def main():\n",
    "    logging.info(\"Data quality check starting with create spark session\")\n",
    "    spark = create_spark_session()\n",
    "    s3_bucket = \"s3a://vuongnd9-udacity-output/\"\n",
    "    table_list = ['fact_immigration', 'dim_visa', 'dim_arrival_date', 'dim_airline', 'dim_location', 'dim_personal']\n",
    "    primary_key_list = ['cic_id','visa_type','arrival_date', 'flight_number','city_name','cic_id']\n",
    "    for table, primary_key in zip(table_list, primary_key_list):\n",
    "        check_records(spark, table, s3_bucket,primary_key)"
   ]
  },
  {
   "cell_type": "code",
   "execution_count": 25,
   "metadata": {
    "editable": true
   },
   "outputs": [
    {
     "name": "stdout",
     "output_type": "stream",
     "text": [
      "fact_immigration have 3096313 rows without duplication - quality check pass!\n",
      "dim_visa have 17 rows without duplication - quality check pass!\n",
      "dim_arrival_date have 30 rows without duplication - quality check pass!\n",
      "dim_airline have 7153 rows without duplication - quality check pass!\n",
      "dim_location have 567 rows without duplication - quality check pass!\n",
      "dim_personal have 3096313 rows without duplication - quality check pass!\n"
     ]
    }
   ],
   "source": [
    "main()"
   ]
  },
  {
   "cell_type": "code",
   "execution_count": null,
   "metadata": {
    "editable": true
   },
   "outputs": [],
   "source": []
  },
  {
   "cell_type": "markdown",
   "metadata": {
    "editable": true
   },
   "source": [
    "#### 4.3 Data dictionary \n"
   ]
  },
  {
   "cell_type": "markdown",
   "metadata": {
    "editable": true
   },
   "source": [
    "Fact table: fact_immigration\n",
    "\n",
    "|**Attributes**|**Description**|\n",
    "|:--------------|:---------------|\n",
    "|cic_id|record ID\n",
    "|city_code|city code of admission\n",
    "|city_name|city name of admission\n",
    "|state_code|state code of arrival\n",
    "|arrival_date|date of arrival\n",
    "|flight_number|flight number of Airline used to arrive in U.S.\n",
    "|stay_duration|stay duration of immigration\n"
   ]
  },
  {
   "cell_type": "markdown",
   "metadata": {
    "editable": true
   },
   "source": [
    "Dimension table: dim_arrival_date\n",
    "\n",
    "|**Attributes**|**Description**|\n",
    "|:--------------|:---------------|\n",
    "|arrival_date|arrival date in SAS format\n",
    "|arrival_datetime|arrival date in datetime format\n",
    "|year|year of arrival\n",
    "|month|month of arrival\n",
    "|day|day of arrival"
   ]
  },
  {
   "cell_type": "markdown",
   "metadata": {
    "editable": true
   },
   "source": [
    "Dimension table: dim_visa\n",
    "    \n",
    "|**Attributes**|**Description**|\n",
    "|:--------------|:---------------|\n",
    "|visa_type|type of visa\n",
    "|visa_purpose|common purpose of visa\n"
   ]
  },
  {
   "cell_type": "markdown",
   "metadata": {
    "editable": true
   },
   "source": [
    "Dimension table: dim_personal\n",
    "\n",
    "|**Attributes**|**Description**|\n",
    "|:--------------|:---------------|\n",
    "|cic_id|record ID\n",
    "|country_of_birth|immigrant country of birth\n",
    "|country_of_residence|immigrant country of residence\n",
    "|year_of_birth|Year of birth\n",
    "|gender|immigrant sex"
   ]
  },
  {
   "cell_type": "markdown",
   "metadata": {
    "editable": true
   },
   "source": [
    "Dimension table: dim_airline\n",
    "\n",
    "|**Attributes**|**Description**|\n",
    "|:--------------|:---------------|\n",
    "|flight_number|Flight number of Airline used to arrive in U.S.\n",
    "|airline_brand|Airline used to arrive in U.S.\n"
   ]
  },
  {
   "cell_type": "markdown",
   "metadata": {
    "editable": true
   },
   "source": [
    "Dimension table: dim_location\n",
    "\n",
    "|**Attributes**|**Description**|\n",
    "|:--------------|:---------------|\n",
    "|city_name|name of city\n",
    "|state_name|name of state\n",
    "|state_code|code of state\n",
    "|median_age|median age of the location\n",
    "|male_population|quantity of male\n",
    "|female_population|quantity of female\n",
    "|total_population|total quatity population\n",
    "|number_of_veterans|quantity of veterans"
   ]
  },
  {
   "cell_type": "markdown",
   "metadata": {
    "editable": true
   },
   "source": [
    "#### Step 5: Complete Project Write Up"
   ]
  },
  {
   "cell_type": "markdown",
   "metadata": {
    "editable": true
   },
   "source": [
    "#### Tools and technologie\n",
    "- AWS S3 storage to store the output of pipeline\n",
    "- Pandas library for exploration the small sample data\n",
    "- Spark use to create pipeline and deal with large number of data"
   ]
  },
  {
   "cell_type": "markdown",
   "metadata": {
    "editable": true
   },
   "source": [
    "#### Data update duration:\n",
    "\n",
    "- *Immigration data*: dataset is partition by month so the pipeline should be scheduled monthly to process catching up the updating of source data\n",
    "- *Demographic data*: This dataset seem updated annually because of some attribute must need time and high cost to estimate and process statistic "
   ]
  },
  {
   "cell_type": "markdown",
   "metadata": {
    "editable": true
   },
   "source": [
    "#### Solution for scenarios:\n",
    "\n",
    "- *The data was increased by 100x:*\n",
    "\n",
    "    For the large data, we need to use EMR to create a cluster have enough power of computing and with elastic scale feature it can easily handle bigdata\n",
    "\n",
    "\n",
    "- *The data populates a dashboard that must be updated on a daily basis by 7am every day:*\n",
    "    \n",
    "    With the demand of schedule processing, we can apply Airflow to create dags and process exactly and automatically. \n",
    "    \n",
    "- *The data needed to be accessed by 100+ people*\n",
    "    \n",
    "    With high connection, we should move the data storage from s3 to Redshift. Redshift allows 500 connection so we can handle the problem well.\n",
    "    \n",
    "    \n",
    "    "
   ]
  }
 ],
 "metadata": {
  "kernelspec": {
   "display_name": "Python 3",
   "language": "python",
   "name": "python3"
  },
  "language_info": {
   "codemirror_mode": {
    "name": "ipython",
    "version": 3
   },
   "file_extension": ".py",
   "mimetype": "text/x-python",
   "name": "python",
   "nbconvert_exporter": "python",
   "pygments_lexer": "ipython3",
   "version": "3.6.3"
  }
 },
 "nbformat": 4,
 "nbformat_minor": 4
}
